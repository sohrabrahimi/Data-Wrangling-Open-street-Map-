{
 "cells": [
  {
   "cell_type": "markdown",
   "metadata": {},
   "source": [
    "# Data Wrangling with Python: Open Street Map (Pittsburgh)\n",
    "\n",
    "OpenStreetMap is collaborative initiative to provide free and editable maps and one of the most prminent examples of [volunteered geographic information.](https://en.wikipedia.org/wiki/Volunteered_geographic_information). While very useful, OSM data can be quite messy at times. In this post, I will walk you through the cleaning the data, storing it in the CSV format and analyzing it via SQL queries. In this project I chose Pittsburgh as it is close to where I live and I have done lots of research on this city. You can find the link to the XML download [here.](https://www.openstreetmap.org/export#map=12/40.4313/-79.9805\"). \n",
    "\n",
    "The process of data wrangling consists of the following steps: \n",
    "\n",
    "* Downloading the XML file\n",
    "* Understanding the structure of OSM XMLs\n",
    "* Auditing the types of tags and attributes\n",
    "* Systematically checking for inconsistencies\n",
    "* Editting the inconsistent values\n",
    "* Saving the data in CSV format (not necessary but included here for instructional purposes)\n",
    "* Converting the CSV format to SQL Database\n",
    "* Analysing the data using SQL queries\n",
    "\n",
    "**QUESTIONS** :At last, I will try to answer domw questions derived from this dataset: Which zipcodes have the highest number of contributions by the OSM users? which users have contributed more? What types of buildings can be found in Pittsburgh and how many of each can be found in each zipcode? \n",
    "\n",
    "First, we import all the required libraries: "
   ]
  },
  {
   "cell_type": "code",
   "execution_count": 1,
   "metadata": {
    "collapsed": false
   },
   "outputs": [],
   "source": [
    "import xml.etree.cElementTree as ET\n",
    "from collections import defaultdict\n",
    "import re\n",
    "import pprint\n",
    "import codecs\n",
    "import csv\n",
    "import sqlite3\n",
    "import pandas as pd\n",
    "import os\n",
    "import matplotlib.pyplot as plt\n",
    "import seaborn as sb"
   ]
  },
  {
   "cell_type": "code",
   "execution_count": 3,
   "metadata": {
    "collapsed": false
   },
   "outputs": [
    {
     "name": "stdout",
     "output_type": "stream",
     "text": [
      "file 'pittsburgh_pennsylvania.osm' is 422.6 MB\n"
     ]
    }
   ],
   "source": [
    "osm_file = \"C:/Users/sur216/Box Sync/school stuff/Udacity/Data Analyst/p3_OSM/pittsburgh_pennsylvania.osm\"\n",
    "print \"file {!r} is {!s} MB\".format(\"pittsburgh_pennsylvania.osm\",round(os.path.getsize(\"pittsburgh_pennsylvania.osm\")/(1024*1024.0),1))\n",
    "pittsburgh = open(osm_file,\"r\")"
   ]
  },
  {
   "cell_type": "markdown",
   "metadata": {},
   "source": [
    "Now we write a function to see what the unique tags are in this XML file. The following function shows all the unique tags found in our dataset and their frequency. After running the function, we can see that **osm** and **bounds** are root elements and other tags are child. "
   ]
  },
  {
   "cell_type": "code",
   "execution_count": 4,
   "metadata": {
    "collapsed": false
   },
   "outputs": [
    {
     "data": {
      "text/plain": [
       "{'bounds': 1,\n",
       " 'member': 33397,\n",
       " 'nd': 2292707,\n",
       " 'node': 1983748,\n",
       " 'osm': 1,\n",
       " 'relation': 3107,\n",
       " 'tag': 1315812,\n",
       " 'way': 205378}"
      ]
     },
     "execution_count": 4,
     "metadata": {},
     "output_type": "execute_result"
    }
   ],
   "source": [
    "def tag_count():\n",
    "    pittsburgh = open(osm_file,\"r\")\n",
    "    tags = {}\n",
    "    for _,elem in ET.iterparse(pittsburgh):  \n",
    "        if tags.get(elem.tag)== None: tags.update({elem.tag:1})\n",
    "        else: tags[elem.tag] += 1\n",
    "    return tags\n",
    "tag_count()"
   ]
  },
  {
   "cell_type": "markdown",
   "metadata": {},
   "source": [
    "Taking a look at the OSM xml structure found [here](http://wiki.openstreetmap.org/wiki/OSM_XML) reveals a few helpful points about this xml file. first, all the information about Pittsburgh are stored in \"node\" and \"way\" tags. To check for consistency, we will first take a look at the key names for these tag attributes. The following function identifies all the unique attributes in these tags: "
   ]
  },
  {
   "cell_type": "code",
   "execution_count": 5,
   "metadata": {
    "collapsed": false
   },
   "outputs": [],
   "source": [
    "def att():\n",
    "    pittsburgh = open(osm_file,\"r\")\n",
    "    k_way = {}\n",
    "    k_node = {}\n",
    "    for _,elem in ET.iterparse(pittsburgh, events = (\"start\",)):\n",
    "        if elem.tag == \"way\":  \n",
    "            for tag in elem.iter(\"tag\"):\n",
    "                if k_way.get(tag.attrib['k'])==None: k_way.update({tag.attrib['k']:1})\n",
    "                else: k_way[tag.attrib['k']] +=1\n",
    "        if elem.tag ==\"node\": \n",
    "            for tag in elem.iter(\"tag\"):\n",
    "                if k_node.get(tag.attrib['k'])==None: k_node.update({tag.attrib['k']:1})\n",
    "                else: k_node[tag.attrib['k']] +=1                    \n",
    "    return (k_way, k_node)   "
   ]
  },
  {
   "cell_type": "markdown",
   "metadata": {},
   "source": [
    " As we can see there are a plenty of attrbutes available in this file. Cleaining all of them take a lot of time. Therefore, we will look into one of the frequent ones i.e. **\"addr:street\"**, **\"building\"**,and **\"addr:postcode\"**. This attrbute is supposed to be the street names and given its importance it should be consistent in the entire dataset. we will now define a function to audit the street names. To simplify the process, I will define multiple functions to use while looping through the XML. This function tell whether an element in the XML is the kind of attribute that we are interested in or not. "
   ]
  },
  {
   "cell_type": "code",
   "execution_count": 6,
   "metadata": {
    "collapsed": false
   },
   "outputs": [],
   "source": [
    "def is_building(elem):\n",
    "    return (elem.attrib['k'] == \"building\")\n",
    "\n",
    "def is_street_name(elem):\n",
    "    return (elem.attrib['k'] == \"addr:street\")\n",
    "\n",
    "def is_zipcode(elem):\n",
    "    return (elem.attrib['k'] == \"addr:postcode\")\n",
    "\n",
    "def is_city(elem):\n",
    "    return (elem.attrib['k']== \"addr:city\")\n",
    "\n",
    "def is_county(elem):\n",
    "    return (elem.attrib['k']== \"addr:county\")\n",
    "\n",
    "def is_state (elem):\n",
    "    return (elem.attrib['k']== \"addr:state\")\n",
    "\n",
    "def user (elem):\n",
    "    return (elem.attrib['uid'])"
   ]
  },
  {
   "cell_type": "markdown",
   "metadata": {},
   "source": [
    "We can easily check the extent of contribution for each user at this stage. Function below shows that Pittsburgh has 1313 users."
   ]
  },
  {
   "cell_type": "code",
   "execution_count": 7,
   "metadata": {
    "collapsed": false
   },
   "outputs": [],
   "source": [
    "#this function returns the extent of contribution of each user as well as the number of users overall. \n",
    "def unique_users():\n",
    "    pittsburgh = open(osm_file,\"r\")\n",
    "    dct = {}\n",
    "    for _,elem in ET.iterparse(pittsburgh, events = (\"start\",)):\n",
    "            if elem.tag == \"way\" or elem.tag == \"node\" or elem.tag ==\"relation\": \n",
    "                if dct.get(user(elem)) == None: dct.update({user(elem):1})\n",
    "                else: dct[user(elem)]+=1\n",
    "    return (len(dct.keys()),dct)\n",
    "# 1313 users have contributed"
   ]
  },
  {
   "cell_type": "markdown",
   "metadata": {},
   "source": [
    "To further discover the structure of this dataset. It's a good idea to find the unique values for different attributes found under \"node\" and \"way\" tags. "
   ]
  },
  {
   "cell_type": "code",
   "execution_count": 8,
   "metadata": {
    "collapsed": false
   },
   "outputs": [],
   "source": [
    "#insert one of the following as function: \"is_building\",\"is_city\",\"is_state\",\"is_street_name\",is_zipcode\",\"is_county\"\n",
    "def unique_features(function):\n",
    "    pittsburgh = open(osm_file,\"r\")\n",
    "    dct = {}\n",
    "    for _,elem in ET.iterparse(pittsburgh, events = (\"start\",)):\n",
    "            if elem.tag == \"way\" or elem.tag == \"node\":  \n",
    "                for tag in elem.iter(\"tag\"):\n",
    "                    if function(tag):\n",
    "                        if dct.get(tag.attrib['v'])==None: dct.update({tag.attrib['v']:1})\n",
    "                        else: dct[tag.attrib['v']]+=1\n",
    "    return dct"
   ]
  },
  {
   "cell_type": "code",
   "execution_count": 10,
   "metadata": {
    "collapsed": false
   },
   "outputs": [
    {
     "data": {
      "text/plain": [
       "{'15219': 1,\n",
       " 'MD': 10,\n",
       " 'OH': 44,\n",
       " 'Ohio': 4,\n",
       " 'P': 1,\n",
       " 'PA': 3288,\n",
       " 'Pa': 7,\n",
       " 'WV': 33,\n",
       " 'pa': 6}"
      ]
     },
     "execution_count": 10,
     "metadata": {},
     "output_type": "execute_result"
    }
   ],
   "source": [
    "unique_features(is_building)\n",
    "unique_features(is_state)"
   ]
  },
  {
   "cell_type": "markdown",
   "metadata": {},
   "source": [
    "We can see that some errors have occured by the users while entering data into OSM. The common abbreviation for \"Pennsylvania\"   is \"PA\" while we can see some other forms here(e.g. p,pa etc.). Some other abbreviations belong to other states which cannot possibly be correct. NOw let's take a look at the buildings: "
   ]
  },
  {
   "cell_type": "markdown",
   "metadata": {},
   "source": [
    "The main problem is that a good number of the users have inserted yes/no for this field assuming OSM wants to know whether a given object is building or not. There are a multitude of building types in this dataset and ofcourse many errors and inconsistencies. (e.g. we have both house and residential). We will now define a couple functions to audit the street names and zipcodes. it's important to know that Pittsburgh metropolitan area has 364 zipcodes ranging from **15001** to **16263** ([see here](http://www.bestplaces.net/find/zip.aspx?st=pa&msa=38300))."
   ]
  },
  {
   "cell_type": "code",
   "execution_count": 20,
   "metadata": {
    "collapsed": true
   },
   "outputs": [],
   "source": [
    "expected = [\"Street\", \"Avenue\", \"Boulevard\", \"Drive\", \"Court\", \"Place\", \"Square\", \"Lane\", \"Road\", \n",
    "            \"Trail\", \"Parkway\", \"Commons\", \"Ring Road\",\"Route\",\"Alley\",\"Circle\",\"Terrace\",\"Way\",\"Highway\"]\n",
    "street_type_re = re.compile(r'\\b\\S+\\.?$', re.IGNORECASE)\n",
    "street_types = defaultdict(set)\n",
    "invalid_zipcodes = defaultdict(int)\n",
    "\n",
    "def audit_street_type(street_types, street_name):\n",
    "    m = street_type_re.search(street_name)\n",
    "    if m:\n",
    "        street_type = m.group()\n",
    "        if street_type not in expected:\n",
    "            street_types[street_type].add(street_name)\n",
    "\n",
    "def audit_zipcode(invalid_zipcodes,zipcode):\n",
    "    try:\n",
    "        if not (15001 <= int(zipcode) <= 16263):\n",
    "            raise ValueError\n",
    "    except ValueError:\n",
    "        invalid_zipcodes[zipcode] += 1"
   ]
  },
  {
   "cell_type": "markdown",
   "metadata": {},
   "source": [
    "We will now define the **\"audit()\"** function to simultanioulsly check for errors in both zip codes and street names. "
   ]
  },
  {
   "cell_type": "code",
   "execution_count": 27,
   "metadata": {
    "collapsed": false
   },
   "outputs": [],
   "source": [
    "def audit():\n",
    "    pittsburgh = open(osm_file,\"r\")\n",
    "    for _,elem in ET.iterparse(pittsburgh, events = (\"start\",)):\n",
    "        if elem.tag == \"way\" or elem.tag == \"node\":  \n",
    "            for tag in elem.iter(\"tag\"):\n",
    "                if is_street_name(tag):\n",
    "                    audit_street_type(street_types, tag.attrib['v'])\n",
    "                elif is_zipcode(tag):\n",
    "                    audit_zipcode(invalid_zipcodes, tag.attrib['v'])\n",
    "    return (invalid_zipcodes, street_types) "
   ]
  },
  {
   "cell_type": "code",
   "execution_count": 28,
   "metadata": {
    "collapsed": false
   },
   "outputs": [
    {
     "data": {
      "text/plain": [
       "(defaultdict(int,\n",
       "             {'15010-4503': 4,\n",
       "              '15147-1423': 2,\n",
       "              '15203-2275': 2,\n",
       "              '15206-3807': 2,\n",
       "              '15206-4320': 2,\n",
       "              '15206-4336': 2,\n",
       "              '15206-4403': 4,\n",
       "              '15206-4449': 2,\n",
       "              '15206-4456': 2,\n",
       "              '15206-4471': 2,\n",
       "              '15206-4472': 2,\n",
       "              '15206-4818': 2,\n",
       "              '15210-1845': 2,\n",
       "              '15212-5890': 2,\n",
       "              '15213-1400': 2,\n",
       "              '15213-1405': 4,\n",
       "              '15213-1500': 2,\n",
       "              '15213-1502': 6,\n",
       "              '15213-1503': 2,\n",
       "              '15213-1530': 2,\n",
       "              '15213-1678': 2,\n",
       "              '15213-1704': 2,\n",
       "              '15213-1705': 2,\n",
       "              '15213-1713': 2,\n",
       "              '15213-1738': 2,\n",
       "              '15213-1763': 2,\n",
       "              '15213-2608': 2,\n",
       "              '15213-2712': 2,\n",
       "              '15213-2909': 4,\n",
       "              '15213-2911': 4,\n",
       "              '15213-3704': 2,\n",
       "              '15213-4026': 2,\n",
       "              '15215x': 2,\n",
       "              '15232-1419': 12,\n",
       "              '15232-1421': 4,\n",
       "              '15232-1447': 2,\n",
       "              '15232-1803': 10,\n",
       "              '15232-1823': 4,\n",
       "              '15232-1826': 2,\n",
       "              '15232-1828': 2,\n",
       "              '15232-1832': 2,\n",
       "              '15232-1833': 2,\n",
       "              '15232-1845': 2,\n",
       "              '15232-1879': 2,\n",
       "              '15232-2106': 2,\n",
       "              '15232-2131': 2,\n",
       "              '15232-2210': 2,\n",
       "              '15232-2705': 2,\n",
       "              '15232-2716': 2,\n",
       "              '15232-2734': 2,\n",
       "              '15232-2735': 2,\n",
       "              '15235-3494': 2,\n",
       "              '15236-1491': 2,\n",
       "              '15237-5344': 2,\n",
       "              '15301-6133': 2,\n",
       "              '15417-9279': 2,\n",
       "              '15419-1220': 12,\n",
       "              '15419-1221': 2,\n",
       "              '15423-1045': 18,\n",
       "              '15423-1048': 6,\n",
       "              '15423-1049': 10,\n",
       "              '15679-1141': 2,\n",
       "              '2573': 4,\n",
       "              '26003': 6,\n",
       "              '26034': 4,\n",
       "              '26037': 2,\n",
       "              '26047': 4,\n",
       "              '26050': 2,\n",
       "              '26059': 8,\n",
       "              '26062': 10,\n",
       "              '26062-4500': 2,\n",
       "              '26062-4525': 4,\n",
       "              '26062-4598': 2,\n",
       "              '26070': 2,\n",
       "              '43920': 46,\n",
       "              '43952': 32,\n",
       "              '43953': 4,\n",
       "              '44432': 4,\n",
       "              'California PA, 15419': 2,\n",
       "              'PA 15033': 2,\n",
       "              'PA 15601': 2,\n",
       "              'PA 15632': 2,\n",
       "              'unknown': 2}),\n",
       " defaultdict(set,\n",
       "             {'115': {'McLaughlin Run Road #115'},\n",
       "              '1302': {'Perry Hwy #1302'},\n",
       "              '18': {'PA 18', 'Route 18'},\n",
       "              '19': {'Route 19', 'US 19'},\n",
       "              '202': {'Wilkins Avenue #202'},\n",
       "              '217': {'217'},\n",
       "              '228': {'Pennsylvania 228',\n",
       "               'Pennylvania 228',\n",
       "               'State Route 228'},\n",
       "              '286': {'Route 286'},\n",
       "              '30': {'Route 30', 'State Route 30', 'U.S. 30'},\n",
       "              '311': {'Bower Hill Rd #311'},\n",
       "              '400': {'West Kensinger Drive #400'},\n",
       "              '51': {'Route 51', 'State Route 51'},\n",
       "              '519': {'PA 519', 'Route 519'},\n",
       "              '8': {'Route 8'},\n",
       "              '837': {'Route 837'},\n",
       "              '885': {'Route 885'},\n",
       "              '910': {'PA 910', 'Route 910'},\n",
       "              'Allegheny': {'South Allegheny'},\n",
       "              'Allies': {'Boulevard of the Allies'},\n",
       "              'Automotive': {'California Automotive'},\n",
       "              'Av': {'Center Av'},\n",
       "              'Av.': {'Fifth Av.'},\n",
       "              'Ave': {'5th Ave',\n",
       "               '6th Ave',\n",
       "               'Arlington Ave',\n",
       "               'Atlantic Ave',\n",
       "               'Center Ave',\n",
       "               'Centre Ave',\n",
       "               'Elizabeth Ave',\n",
       "               'Fifth Ave',\n",
       "               'Forbes Ave',\n",
       "               'Friendship Ave',\n",
       "               'Glenn Ave',\n",
       "               'Highland Ave',\n",
       "               'Liberty Ave',\n",
       "               'Lynnwood Ave',\n",
       "               'Morewood Ave',\n",
       "               'North Highland Ave',\n",
       "               'Penn Ave',\n",
       "               'Romine Ave',\n",
       "               'S Highland Ave',\n",
       "               'S Millvale Ave',\n",
       "               'S Negley Ave',\n",
       "               'S. Aiken Ave',\n",
       "               'Shadeland Ave',\n",
       "               'Shady Ave',\n",
       "               'South Aiken Ave',\n",
       "               'University Ave'},\n",
       "              'Ave.': {'4th Ave.',\n",
       "               '5th Ave.',\n",
       "               'Chartiers Ave.',\n",
       "               'Fifth Ave.',\n",
       "               'Macon Ave.',\n",
       "               'Murray Ave.',\n",
       "               'Romine Ave.'},\n",
       "              'B': {'New Texas Rd #B'},\n",
       "              'Blvd': {'Beechwood Blvd',\n",
       "               'Lysle Blvd',\n",
       "               'Monroeville Blvd',\n",
       "               'Pennsbury Blvd',\n",
       "               'Sunset Blvd',\n",
       "               'Washington Blvd'},\n",
       "              'Brdg': {'Swindell Brdg'},\n",
       "              'CT': {'Highfield CT'},\n",
       "              'Center': {'Quaker Village Shopping Center'},\n",
       "              'Connector': {'John Scott Connector'},\n",
       "              'Cove': {'Pheasant Cove'},\n",
       "              'Crossing': {'Banbury Crossing'},\n",
       "              'Ct': {'Imperial Ct', 'LaPlace Point Ct'},\n",
       "              'DR': {'MIDWAY DR'},\n",
       "              'Dowling': {'Dowling'},\n",
       "              'Dr': {'Berwick Dr',\n",
       "               'Black Hawk Dr',\n",
       "               'Camden Dr',\n",
       "               'Corporate Dr',\n",
       "               'Douglas Dr',\n",
       "               'Eastminster Dr',\n",
       "               'Fox Ridge Farms Dr',\n",
       "               'Glengary Dr',\n",
       "               'Greyfriar Dr',\n",
       "               'Industry Dr',\n",
       "               'Kirkwall Dr',\n",
       "               'Selvin Dr'},\n",
       "              'Dr.': {'Estates Dr.'},\n",
       "              'East': {'Deer Park Drive East',\n",
       "               'Horseshoe Circle East',\n",
       "               'Squaw Run Road East',\n",
       "               'Waterfront Drive East',\n",
       "               'Waterman Road East'},\n",
       "              'Eisele': {'Eisele'},\n",
       "              'End': {'Trails End'},\n",
       "              'Entrance': {'Towne Hall Entrance'},\n",
       "              'Expressway': {'Mon/Fayette Expressway', 'Tri-Boro Expressway'},\n",
       "              'Extension': {'Bowman Street Extension',\n",
       "               'Brierly Lane Extension',\n",
       "               'Broadway Avenue Extension',\n",
       "               'Federal Street Extension',\n",
       "               'Gulf Lab Road Extension',\n",
       "               'Hookstown Road Extension',\n",
       "               'Jacktown Road Extension',\n",
       "               'Middle Road Extension',\n",
       "               'Mount Troy Road Extension',\n",
       "               'Thomas Street Extension',\n",
       "               'Virginia Avenue Extension'},\n",
       "              'Harbor': {'Boothbay Harbor',\n",
       "               'Marblehead Harbor',\n",
       "               'Mystic Harbor',\n",
       "               'Saybrook Harbor'},\n",
       "              'Harding': {'Harding'},\n",
       "              'Heights': {'Meadow Heights'},\n",
       "              'Highway': {'Golden Mile Highway',\n",
       "               'Lincoln Highway',\n",
       "               'Old Perry Highway',\n",
       "               'Old William Penn Highway',\n",
       "               'Perry Highway',\n",
       "               'William Flynn Highway',\n",
       "               'William Penn Highway'},\n",
       "              'Hill': {'Serenity Hill'},\n",
       "              'Hwy': {'Perry Hwy'},\n",
       "              'Joanne': {'Joanne'},\n",
       "              'Ln': {'Meadow Park Ln', 'Mountain Trails Ln'},\n",
       "              'Lysle': {'Lysle'},\n",
       "              'Maples': {'The Maples'},\n",
       "              'Marshall': {'Marshall'},\n",
       "              'Maurers': {'Maurers'},\n",
       "              'McAleer': {'McAleer'},\n",
       "              'North': {'Freedom Drive North',\n",
       "               'Grandview Drive North',\n",
       "               'Lakeside Drive North',\n",
       "               'Randolph Drive North'},\n",
       "              'Oaks': {'The Oaks'},\n",
       "              'PA-228': {'PA-228'},\n",
       "              'PA-910': {'PA-910'},\n",
       "              'PA-982': {'PA-982'},\n",
       "              'Park': {'Arlington Park', 'Blueberry Hill Park'},\n",
       "              'Patricia': {'Patricia'},\n",
       "              'Penco': {'Penco'},\n",
       "              'Pike': {'Greensburg Pike',\n",
       "               'Kittanning Pike',\n",
       "               'Northern Pike',\n",
       "               'Steubenville Pike',\n",
       "               'Washington Pike'},\n",
       "              'Pl': {'Washington Pl'},\n",
       "              'Plaza': {'Penn Plaza'},\n",
       "              'Rd': {'Bayard Rd',\n",
       "               'Browns Hill Rd',\n",
       "               'Brownsville Rd',\n",
       "               'California Rd',\n",
       "               'Camp Hollow Rd',\n",
       "               'Hill-Church Houston Rd',\n",
       "               'Kerrwood Rd',\n",
       "               'Latrobe Crabtree Rd',\n",
       "               'McKnight Rd',\n",
       "               'McNeilly Rd',\n",
       "               'Ravencrest Rd',\n",
       "               'Robinhood Rd',\n",
       "               'State Line Rd',\n",
       "               'Wexford Rd'},\n",
       "              'Rear': {'Spruce Street Rear'},\n",
       "              'Rossway': {'Rossway'},\n",
       "              'Run': {'Honey Run'},\n",
       "              'ST': {'12TH ST'},\n",
       "              'South': {'Freedom Drive South',\n",
       "               'Grandview Drive South',\n",
       "               'Penn Circle South',\n",
       "               'Randolph Drive South'},\n",
       "              'Sq': {'Elmer L Williams Sq', 'Northtowne Sq', 'Sheridan Sq'},\n",
       "              'St': {'7th St',\n",
       "               '8th St',\n",
       "               'Bellefonte St',\n",
       "               'Castleman St',\n",
       "               'Copeland St',\n",
       "               'First St',\n",
       "               'Hemlock St',\n",
       "               'Henry St',\n",
       "               'Locust St',\n",
       "               'Main St',\n",
       "               'Mirror St',\n",
       "               'N 3rd St',\n",
       "               'N Craig St',\n",
       "               'N Dithridge St',\n",
       "               'N Neville St',\n",
       "               'North Bellefield St',\n",
       "               'S Craig St',\n",
       "               'S Graham St',\n",
       "               'S Whitfield St',\n",
       "               'Saline St',\n",
       "               'Smithfield St',\n",
       "               'South Craig St',\n",
       "               'South Dithridge St',\n",
       "               'Stanwix St',\n",
       "               'Walnut St',\n",
       "               'West St',\n",
       "               'Winthrop St',\n",
       "               'Wood St'},\n",
       "              'St.': {'Atwood St.',\n",
       "               'Bryant St.',\n",
       "               'Byrant St.',\n",
       "               'West 11th St.'},\n",
       "              'Strasse': {'Rihn Strasse'},\n",
       "              'Ter': {'Colby Ter', 'Faber Ter'},\n",
       "              'Trillium': {'The Trillium'},\n",
       "              'US-30': {'US-30'},\n",
       "              'Walnut': {'Walnut'},\n",
       "              'Weir': {'Weir'},\n",
       "              'West': {'Deer Park Drive West',\n",
       "               'Horseshoe Circle West',\n",
       "               'Route 40 West',\n",
       "               'Waterfront Drive West',\n",
       "               'Waterman Road West'},\n",
       "              'Wheel-In-Campground': {'Wheel-In-Campground'},\n",
       "              'center': {'Hillcrest shopping center'}}))"
      ]
     },
     "execution_count": 28,
     "metadata": {},
     "output_type": "execute_result"
    }
   ],
   "source": [
    "audit()"
   ]
  },
  {
   "cell_type": "markdown",
   "metadata": {},
   "source": [
    "As you can see there are a large number of attributes and the data entered are not as accurate. The process of editing could be extended to all those attributes. For the purposes of this project we will try to edit zip codes, streets and state. Auditing the zip codes showed that some of the zipcodes are in 9-digits format while most of our zip codes are in 5-digits. Some zip codes also include \"PA\" at the beginning which is redundant. The street names also show a number of inconsistencies however, we can remedy most of these by creating a dictionary that converts the undesired abbreviations to a standard form. "
   ]
  },
  {
   "cell_type": "code",
   "execution_count": 183,
   "metadata": {
    "collapsed": true
   },
   "outputs": [],
   "source": [
    "# standardize street names\n",
    "\n",
    "mapping_str = {\"Av\": \"Avenue\",\"Av.\":\"Avenue\",\"Ave\":\"Avenue\",\"Ave.\":\"Avenue\",\"Blvd\":\"Boulevard\",\n",
    "               \"Dr\":\"Drive\",\"dr\":\"Drive\",\"DR\":\"Drive\",\"Dr.\":\"Drive\",\"Hwy\":\"Highway\",\"Ln\":\"Lane\",\n",
    "               \"Pl\":\"Place\",\"Rd\":\"Road\",\"ST\":\"Street\",\"St\":\"Street\",\"Sq\":\"Square\",\"St.\":\"Street\",\n",
    "               \"Ter\":\"Terrace\",\"Ct\":\"Court\",\"CT\":\"Court\",\"center\":\"Center\"}\n",
    "               \n",
    "def update_street_name(name, mapping_str):\n",
    "    name = name.split(' ')\n",
    "    type = name[-1]\n",
    "    if type in mapping_str:\n",
    "        name[-1] = mapping_str[type]\n",
    "    \n",
    "    name = ' '.join(name)\n",
    "    name = name.title()\n",
    "\n",
    "    return name"
   ]
  },
  {
   "cell_type": "markdown",
   "metadata": {},
   "source": [
    "In case of zip codes, we delete those that are not within [15001,16263] range and get rid of the text characters as well. If the zip code is not within that range or is not a number at all the function returns \"NA\". We will also change the 9-digit format to 5 digits."
   ]
  },
  {
   "cell_type": "code",
   "execution_count": 181,
   "metadata": {
    "collapsed": false
   },
   "outputs": [],
   "source": [
    "#standardize zipcodes\n",
    "def update_zipcode(zipcode):\n",
    "    lst = [int(s) for s in re.findall(r'\\d+', zipcode)]\n",
    "    if lst == []: new_zipcode = \"0\"\n",
    "    else: \n",
    "        new_zipcode = lst[0]\n",
    "        if not 15001 <= int(new_zipcode) <= 16263: new_zipcode = \"0\"\n",
    "    return new_zipcode"
   ]
  },
  {
   "cell_type": "markdown",
   "metadata": {},
   "source": [
    "Since I am goinng to answer some questions about the building type later on, It would be a better idea to simplify the buildings types and categorize them into a few well-known groups. The following function converts the building types to one of the following : **residential, commercial, education, industrial, aggriculture, parking, service and other**. "
   ]
  },
  {
   "cell_type": "code",
   "execution_count": 408,
   "metadata": {
    "collapsed": false
   },
   "outputs": [],
   "source": [
    "#standardize landuse types\n",
    "mapping_bld = {'chapel':'church','condominium':'residential','dormitory':'residential',\n",
    "               'garage':'parking','garages':'parking','store':'commercial',\n",
    "               'house':'residential','motel':'commercial','hotel':'commercial','restaurant':'commercial',\n",
    "               'shopping_center':'commercial','retail':'commercial','kindergarten':'education',\n",
    "               'school':'education','college':'education', 'university':'education','warehouse':'industrial',\n",
    "               'silo':'industrial','storage_tank':'industrial','manufacture':'industrial','supermarket':'commercial',\n",
    "               'pumping_station':'commercial','greenhouse':'agriculture', 'farm':'agriculture','train_station':'service',\n",
    "               'Middle_School':'education','athletic_club':'commercial','hospital':'service','apartments':'residential'}\n",
    "\n",
    "def update_landuse(building):\n",
    "    if not mapping_bld.get(building)==None:building = mapping_bld[building]\n",
    "    else : building = \"other\"\n",
    "    return building "
   ]
  },
  {
   "cell_type": "markdown",
   "metadata": {},
   "source": [
    "# Modify and save the attributes into a CSV file\n",
    "\n",
    "For instructional purposes I will convert the XML file to CSV file as this is one of the most common practices. Working with CSV format is much easier and it is important to know how to convert XML to CSV. Below, I will convert the XML to 4 separate CSV tables: **ways,nodes,ways_tags,nodes_tags** the first two hold information on the users, edit timestamp and version as well as latitude and longitude in case of nodes. The second two, hold teh attributed for the first two. ways and ways_tags ahve a common field named \"way_id\" and \"node_id\" for nodes and nodes_tags cases. The process is as follows: first, make dictionaries of the desired tags and attributes, convert them to Pandas Dataframes, and at last, save them as CSV files. "
   ]
  },
  {
   "cell_type": "code",
   "execution_count": 230,
   "metadata": {
    "collapsed": false
   },
   "outputs": [
    {
     "data": {
      "text/html": [
       "<div>\n",
       "<table border=\"1\" class=\"dataframe\">\n",
       "  <thead>\n",
       "    <tr style=\"text-align: right;\">\n",
       "      <th></th>\n",
       "      <th>changeset</th>\n",
       "      <th>id</th>\n",
       "      <th>lat</th>\n",
       "      <th>lon</th>\n",
       "      <th>timestamp</th>\n",
       "      <th>uid</th>\n",
       "      <th>user</th>\n",
       "      <th>version</th>\n",
       "    </tr>\n",
       "  </thead>\n",
       "  <tbody>\n",
       "    <tr>\n",
       "      <th>0</th>\n",
       "      <td>134337</td>\n",
       "      <td>31479671</td>\n",
       "      <td>40.1688251</td>\n",
       "      <td>-80.10257</td>\n",
       "      <td>2007-07-09T03:10:11Z</td>\n",
       "      <td>867</td>\n",
       "      <td>tscofield</td>\n",
       "      <td>1</td>\n",
       "    </tr>\n",
       "    <tr>\n",
       "      <th>1</th>\n",
       "      <td>9571084</td>\n",
       "      <td>31479864</td>\n",
       "      <td>40.2235788</td>\n",
       "      <td>-79.6058815</td>\n",
       "      <td>2011-10-16T11:03:11Z</td>\n",
       "      <td>252811</td>\n",
       "      <td>rickmastfan67</td>\n",
       "      <td>3</td>\n",
       "    </tr>\n",
       "    <tr>\n",
       "      <th>2</th>\n",
       "      <td>9571084</td>\n",
       "      <td>31479865</td>\n",
       "      <td>40.222309</td>\n",
       "      <td>-79.6047754</td>\n",
       "      <td>2011-10-16T11:03:11Z</td>\n",
       "      <td>252811</td>\n",
       "      <td>rickmastfan67</td>\n",
       "      <td>2</td>\n",
       "    </tr>\n",
       "    <tr>\n",
       "      <th>3</th>\n",
       "      <td>9571084</td>\n",
       "      <td>31479867</td>\n",
       "      <td>40.2195687</td>\n",
       "      <td>-79.6026969</td>\n",
       "      <td>2011-10-16T11:03:11Z</td>\n",
       "      <td>252811</td>\n",
       "      <td>rickmastfan67</td>\n",
       "      <td>3</td>\n",
       "    </tr>\n",
       "    <tr>\n",
       "      <th>4</th>\n",
       "      <td>9571084</td>\n",
       "      <td>31479868</td>\n",
       "      <td>40.2187497</td>\n",
       "      <td>-79.6018514</td>\n",
       "      <td>2011-10-16T11:03:11Z</td>\n",
       "      <td>252811</td>\n",
       "      <td>rickmastfan67</td>\n",
       "      <td>4</td>\n",
       "    </tr>\n",
       "    <tr>\n",
       "      <th>5</th>\n",
       "      <td>1878278</td>\n",
       "      <td>31479869</td>\n",
       "      <td>40.2180308</td>\n",
       "      <td>-79.6006994</td>\n",
       "      <td>2009-07-19T21:23:57Z</td>\n",
       "      <td>4115</td>\n",
       "      <td>Andy Allan</td>\n",
       "      <td>2</td>\n",
       "    </tr>\n",
       "    <tr>\n",
       "      <th>6</th>\n",
       "      <td>1878278</td>\n",
       "      <td>31479870</td>\n",
       "      <td>40.2173885</td>\n",
       "      <td>-79.5991201</td>\n",
       "      <td>2009-07-19T21:37:40Z</td>\n",
       "      <td>4115</td>\n",
       "      <td>Andy Allan</td>\n",
       "      <td>3</td>\n",
       "    </tr>\n",
       "    <tr>\n",
       "      <th>7</th>\n",
       "      <td>1878278</td>\n",
       "      <td>31479871</td>\n",
       "      <td>40.2169298</td>\n",
       "      <td>-79.5979528</td>\n",
       "      <td>2009-07-19T21:39:28Z</td>\n",
       "      <td>4115</td>\n",
       "      <td>Andy Allan</td>\n",
       "      <td>4</td>\n",
       "    </tr>\n",
       "    <tr>\n",
       "      <th>8</th>\n",
       "      <td>134337</td>\n",
       "      <td>31479872</td>\n",
       "      <td>40.2164528</td>\n",
       "      <td>-79.5968732</td>\n",
       "      <td>2007-07-09T03:20:49Z</td>\n",
       "      <td>867</td>\n",
       "      <td>tscofield</td>\n",
       "      <td>1</td>\n",
       "    </tr>\n",
       "    <tr>\n",
       "      <th>9</th>\n",
       "      <td>1878278</td>\n",
       "      <td>31479873</td>\n",
       "      <td>40.2159794</td>\n",
       "      <td>-79.5962791</td>\n",
       "      <td>2009-07-19T21:38:29Z</td>\n",
       "      <td>4115</td>\n",
       "      <td>Andy Allan</td>\n",
       "      <td>2</td>\n",
       "    </tr>\n",
       "  </tbody>\n",
       "</table>\n",
       "</div>"
      ],
      "text/plain": [
       "  changeset        id         lat          lon             timestamp     uid  \\\n",
       "0    134337  31479671  40.1688251    -80.10257  2007-07-09T03:10:11Z     867   \n",
       "1   9571084  31479864  40.2235788  -79.6058815  2011-10-16T11:03:11Z  252811   \n",
       "2   9571084  31479865   40.222309  -79.6047754  2011-10-16T11:03:11Z  252811   \n",
       "3   9571084  31479867  40.2195687  -79.6026969  2011-10-16T11:03:11Z  252811   \n",
       "4   9571084  31479868  40.2187497  -79.6018514  2011-10-16T11:03:11Z  252811   \n",
       "5   1878278  31479869  40.2180308  -79.6006994  2009-07-19T21:23:57Z    4115   \n",
       "6   1878278  31479870  40.2173885  -79.5991201  2009-07-19T21:37:40Z    4115   \n",
       "7   1878278  31479871  40.2169298  -79.5979528  2009-07-19T21:39:28Z    4115   \n",
       "8    134337  31479872  40.2164528  -79.5968732  2007-07-09T03:20:49Z     867   \n",
       "9   1878278  31479873  40.2159794  -79.5962791  2009-07-19T21:38:29Z    4115   \n",
       "\n",
       "            user version  \n",
       "0      tscofield       1  \n",
       "1  rickmastfan67       3  \n",
       "2  rickmastfan67       2  \n",
       "3  rickmastfan67       3  \n",
       "4  rickmastfan67       4  \n",
       "5     Andy Allan       2  \n",
       "6     Andy Allan       3  \n",
       "7     Andy Allan       4  \n",
       "8      tscofield       1  \n",
       "9     Andy Allan       2  "
      ]
     },
     "execution_count": 230,
     "metadata": {},
     "output_type": "execute_result"
    }
   ],
   "source": [
    "# create nodes table\n",
    "node_cols = ['id', 'lat', 'lon', 'user', 'uid', 'version', 'changeset', 'timestamp']\n",
    "def nodes_table ():\n",
    "    pittsburgh = open(osm_file,\"r\")\n",
    "    nodes = defaultdict(list)\n",
    "    for _,elem in ET.iterparse(pittsburgh, events = (\"start\",)):\n",
    "        if elem.tag == \"node\":\n",
    "            for col in node_cols:\n",
    "                try:    \n",
    "                    nodes[col].append(elem.attrib[col].encode('utf-8'))\n",
    "                except:\n",
    "                    nodes[col].append(float('nan'))\n",
    "    return pd.DataFrame(nodes).fillna(method='ffill')\n",
    "nodes_table().to_csv('nodes.csv', index=True, header=False)\n",
    "nodes = nodes_table()\n",
    "nodes.head(10)"
   ]
  },
  {
   "cell_type": "code",
   "execution_count": 277,
   "metadata": {
    "collapsed": false
   },
   "outputs": [
    {
     "data": {
      "text/html": [
       "<div>\n",
       "<table border=\"1\" class=\"dataframe\">\n",
       "  <thead>\n",
       "    <tr style=\"text-align: right;\">\n",
       "      <th></th>\n",
       "      <th>changeset</th>\n",
       "      <th>id</th>\n",
       "      <th>timestamp</th>\n",
       "      <th>uid</th>\n",
       "      <th>user</th>\n",
       "      <th>version</th>\n",
       "    </tr>\n",
       "  </thead>\n",
       "  <tbody>\n",
       "    <tr>\n",
       "      <th>0</th>\n",
       "      <td>9927059</td>\n",
       "      <td>4943701</td>\n",
       "      <td>2011-11-23T22:41:59Z</td>\n",
       "      <td>207745</td>\n",
       "      <td>NE2</td>\n",
       "      <td>10</td>\n",
       "    </tr>\n",
       "    <tr>\n",
       "      <th>1</th>\n",
       "      <td>39520649</td>\n",
       "      <td>5053988</td>\n",
       "      <td>2016-05-23T22:17:35Z</td>\n",
       "      <td>1961753</td>\n",
       "      <td>abbafei</td>\n",
       "      <td>24</td>\n",
       "    </tr>\n",
       "    <tr>\n",
       "      <th>2</th>\n",
       "      <td>39520649</td>\n",
       "      <td>5054023</td>\n",
       "      <td>2016-05-23T22:14:34Z</td>\n",
       "      <td>1961753</td>\n",
       "      <td>abbafei</td>\n",
       "      <td>27</td>\n",
       "    </tr>\n",
       "    <tr>\n",
       "      <th>3</th>\n",
       "      <td>34439012</td>\n",
       "      <td>5068379</td>\n",
       "      <td>2015-10-05T00:02:32Z</td>\n",
       "      <td>613256</td>\n",
       "      <td>MCollar</td>\n",
       "      <td>11</td>\n",
       "    </tr>\n",
       "    <tr>\n",
       "      <th>4</th>\n",
       "      <td>10111415</td>\n",
       "      <td>9650873</td>\n",
       "      <td>2011-12-13T21:42:07Z</td>\n",
       "      <td>334153</td>\n",
       "      <td>Alexander Roalter</td>\n",
       "      <td>13</td>\n",
       "    </tr>\n",
       "    <tr>\n",
       "      <th>5</th>\n",
       "      <td>14363227</td>\n",
       "      <td>11643734</td>\n",
       "      <td>2012-12-22T08:29:52Z</td>\n",
       "      <td>451693</td>\n",
       "      <td>bot-mode</td>\n",
       "      <td>2</td>\n",
       "    </tr>\n",
       "    <tr>\n",
       "      <th>6</th>\n",
       "      <td>14363227</td>\n",
       "      <td>11643753</td>\n",
       "      <td>2012-12-22T08:29:52Z</td>\n",
       "      <td>451693</td>\n",
       "      <td>bot-mode</td>\n",
       "      <td>2</td>\n",
       "    </tr>\n",
       "    <tr>\n",
       "      <th>7</th>\n",
       "      <td>14461551</td>\n",
       "      <td>11643754</td>\n",
       "      <td>2012-12-30T10:22:59Z</td>\n",
       "      <td>451693</td>\n",
       "      <td>bot-mode</td>\n",
       "      <td>2</td>\n",
       "    </tr>\n",
       "    <tr>\n",
       "      <th>8</th>\n",
       "      <td>15784263</td>\n",
       "      <td>11643782</td>\n",
       "      <td>2013-04-19T11:49:48Z</td>\n",
       "      <td>451693</td>\n",
       "      <td>bot-mode</td>\n",
       "      <td>2</td>\n",
       "    </tr>\n",
       "    <tr>\n",
       "      <th>9</th>\n",
       "      <td>36309906</td>\n",
       "      <td>11644056</td>\n",
       "      <td>2016-01-02T02:05:35Z</td>\n",
       "      <td>2835510</td>\n",
       "      <td>GeoKitten</td>\n",
       "      <td>7</td>\n",
       "    </tr>\n",
       "  </tbody>\n",
       "</table>\n",
       "</div>"
      ],
      "text/plain": [
       "  changeset        id             timestamp      uid               user  \\\n",
       "0   9927059   4943701  2011-11-23T22:41:59Z   207745                NE2   \n",
       "1  39520649   5053988  2016-05-23T22:17:35Z  1961753            abbafei   \n",
       "2  39520649   5054023  2016-05-23T22:14:34Z  1961753            abbafei   \n",
       "3  34439012   5068379  2015-10-05T00:02:32Z   613256            MCollar   \n",
       "4  10111415   9650873  2011-12-13T21:42:07Z   334153  Alexander Roalter   \n",
       "5  14363227  11643734  2012-12-22T08:29:52Z   451693           bot-mode   \n",
       "6  14363227  11643753  2012-12-22T08:29:52Z   451693           bot-mode   \n",
       "7  14461551  11643754  2012-12-30T10:22:59Z   451693           bot-mode   \n",
       "8  15784263  11643782  2013-04-19T11:49:48Z   451693           bot-mode   \n",
       "9  36309906  11644056  2016-01-02T02:05:35Z  2835510          GeoKitten   \n",
       "\n",
       "  version  \n",
       "0      10  \n",
       "1      24  \n",
       "2      27  \n",
       "3      11  \n",
       "4      13  \n",
       "5       2  \n",
       "6       2  \n",
       "7       2  \n",
       "8       2  \n",
       "9       7  "
      ]
     },
     "execution_count": 277,
     "metadata": {},
     "output_type": "execute_result"
    }
   ],
   "source": [
    "#creat ways table\n",
    "way_cols = ['id', 'user', 'uid', 'version', 'changeset', 'timestamp']\n",
    "def ways_table():\n",
    "    pittsburgh = open(osm_file,\"r\")\n",
    "    ways= defaultdict(list)\n",
    "    for _, elem in ET.iterparse(pittsburgh, events=(\"start\",)):\n",
    "        if elem.tag == \"way\":\n",
    "            for col in way_cols:\n",
    "                try:\n",
    "                    ways[col].append(elem.attrib[col].encode('utf-8'))\n",
    "                except:\n",
    "                    ways[col].append(float('nan'))\n",
    "    return pd.DataFrame(ways).fillna(method='ffill')\n",
    "ways_table().to_csv('ways.csv', index=True, header=False)\n",
    "ways = ways_table()\n",
    "ways.head(10)"
   ]
  },
  {
   "cell_type": "markdown",
   "metadata": {},
   "source": [
    "The nodes_tags and ways_tags are a bit more complicated. Here, we want to edit the data by means of the functions that we defined earlier (e.g. update_landuse, update_street_name etc.). Additionally, as we saw earlier, some attributed have a colon character in them (e.g. addr:street). We want to know th type of these attributes (e.g. addr, tiger etc.) therefore, we will check if a colon character exists first, if the colon exists we split on \":\" and save the left side of teh split in another column. if no colon exists then \"NA\" will be applied to that column. "
   ]
  },
  {
   "cell_type": "code",
   "execution_count": 273,
   "metadata": {
    "collapsed": false
   },
   "outputs": [
    {
     "data": {
      "text/html": [
       "<div>\n",
       "<table border=\"1\" class=\"dataframe\">\n",
       "  <thead>\n",
       "    <tr style=\"text-align: right;\">\n",
       "      <th></th>\n",
       "      <th>attribute</th>\n",
       "      <th>attribute_type</th>\n",
       "      <th>id</th>\n",
       "      <th>type</th>\n",
       "      <th>value</th>\n",
       "    </tr>\n",
       "  </thead>\n",
       "  <tbody>\n",
       "    <tr>\n",
       "      <th>0</th>\n",
       "      <td>created_by</td>\n",
       "      <td>is_in</td>\n",
       "      <td>31479671</td>\n",
       "      <td>NA</td>\n",
       "      <td>JOSM</td>\n",
       "    </tr>\n",
       "    <tr>\n",
       "      <th>1</th>\n",
       "      <td>created_by</td>\n",
       "      <td>is_in</td>\n",
       "      <td>31479872</td>\n",
       "      <td>NA</td>\n",
       "      <td>JOSM</td>\n",
       "    </tr>\n",
       "    <tr>\n",
       "      <th>2</th>\n",
       "      <td>created_by</td>\n",
       "      <td>name</td>\n",
       "      <td>31479874</td>\n",
       "      <td>NA</td>\n",
       "      <td>JOSM</td>\n",
       "    </tr>\n",
       "    <tr>\n",
       "      <th>3</th>\n",
       "      <td>created_by</td>\n",
       "      <td>name</td>\n",
       "      <td>31479879</td>\n",
       "      <td>NA</td>\n",
       "      <td>JOSM</td>\n",
       "    </tr>\n",
       "    <tr>\n",
       "      <th>4</th>\n",
       "      <td>created_by</td>\n",
       "      <td>name</td>\n",
       "      <td>31479883</td>\n",
       "      <td>NA</td>\n",
       "      <td>JOSM</td>\n",
       "    </tr>\n",
       "    <tr>\n",
       "      <th>5</th>\n",
       "      <td>created_by</td>\n",
       "      <td>gnis</td>\n",
       "      <td>31479887</td>\n",
       "      <td>NA</td>\n",
       "      <td>JOSM</td>\n",
       "    </tr>\n",
       "    <tr>\n",
       "      <th>6</th>\n",
       "      <td>created_by</td>\n",
       "      <td>odbl</td>\n",
       "      <td>31479888</td>\n",
       "      <td>NA</td>\n",
       "      <td>JOSM</td>\n",
       "    </tr>\n",
       "    <tr>\n",
       "      <th>7</th>\n",
       "      <td>created_by</td>\n",
       "      <td>odbl</td>\n",
       "      <td>31479890</td>\n",
       "      <td>NA</td>\n",
       "      <td>JOSM</td>\n",
       "    </tr>\n",
       "    <tr>\n",
       "      <th>8</th>\n",
       "      <td>created_by</td>\n",
       "      <td>odbl</td>\n",
       "      <td>31479892</td>\n",
       "      <td>NA</td>\n",
       "      <td>JOSM</td>\n",
       "    </tr>\n",
       "    <tr>\n",
       "      <th>9</th>\n",
       "      <td>created_by</td>\n",
       "      <td>odbl</td>\n",
       "      <td>31479936</td>\n",
       "      <td>NA</td>\n",
       "      <td>JOSM</td>\n",
       "    </tr>\n",
       "  </tbody>\n",
       "</table>\n",
       "</div>"
      ],
      "text/plain": [
       "    attribute attribute_type        id type value\n",
       "0  created_by          is_in  31479671   NA  JOSM\n",
       "1  created_by          is_in  31479872   NA  JOSM\n",
       "2  created_by           name  31479874   NA  JOSM\n",
       "3  created_by           name  31479879   NA  JOSM\n",
       "4  created_by           name  31479883   NA  JOSM\n",
       "5  created_by           gnis  31479887   NA  JOSM\n",
       "6  created_by           odbl  31479888   NA  JOSM\n",
       "7  created_by           odbl  31479890   NA  JOSM\n",
       "8  created_by           odbl  31479892   NA  JOSM\n",
       "9  created_by           odbl  31479936   NA  JOSM"
      ]
     },
     "execution_count": 273,
     "metadata": {},
     "output_type": "execute_result"
    }
   ],
   "source": [
    "#create nodes_tags table\n",
    "lower_colon = re.compile(r'^([a-z]|_)*:([a-z]|_)*$')\n",
    "problemchars = re.compile(r'[=\\+/&<>;\\'\"\\?%#$@\\,\\. \\t\\r\\n]')\n",
    "#nodes_tags_cols = ['id','attribute', 'value', 'attribute_type']\n",
    "def nodes_tags_table ():\n",
    "    pittsburgh = open(osm_file,\"r\")\n",
    "    nodes_tags = defaultdict(list)\n",
    "    for _,elem in ET.iterparse(pittsburgh, events = (\"start\",)):\n",
    "        if elem.tag == \"node\":\n",
    "            for tag in elem.iter(\"tag\"):\n",
    "                if not problemchars.search(tag.attrib['k']):\n",
    "                    nodes_tags['id'].append(elem.attrib['id'])\n",
    "                    cln = lower_colon.search(tag.attrib['k'])\n",
    "                    # if colon exists in the 'k' attribute\n",
    "                    if cln: \n",
    "                        nodes_tags['attribute'].append(tag.attrib['k'].split(\":\",1)[1])\n",
    "                        nodes_tags['attribute_type'].append(tag.attrib['k'].split(\":\",1)[0])\n",
    "                    # if colon does not exist in 'k' attribute\n",
    "                    else: \n",
    "                        nodes_tags['attribute'].append(tag.attrib['k'])\n",
    "                        nodes_tags['type'].append('NA')\n",
    "                    # modify some values (i.e. street names, buildings, and zipcodes)\n",
    "                    if is_zipcode(tag):nodes_tags['value'].append(update_zipcode(tag.attrib['v']))\n",
    "                    elif is_street_name(tag):nodes_tags['value'].append(update_street_name(tag.attrib['v'], mapping_str))\n",
    "                    elif is_building(tag): nodes_tags['value'].append(update_landuse(tag.attrib['v']))\n",
    "                    else: nodes_tags['value'].append(tag.attrib['v'].encode('utf-8'))\n",
    "    return pd.DataFrame(dict([(x,pd.Series(y)) for x,y in nodes_tags.iteritems()]))\n",
    "nodes_tags_table().to_csv('nodes_tags.csv', index=True, header=False)\n",
    "nodes_tags = nodes_tags_table()\n",
    "nodes_tags.head(10)"
   ]
  },
  {
   "cell_type": "code",
   "execution_count": 416,
   "metadata": {
    "collapsed": false
   },
   "outputs": [
    {
     "data": {
      "text/html": [
       "<div>\n",
       "<table border=\"1\" class=\"dataframe\">\n",
       "  <thead>\n",
       "    <tr style=\"text-align: right;\">\n",
       "      <th></th>\n",
       "      <th>attribute</th>\n",
       "      <th>attribute_type</th>\n",
       "      <th>id</th>\n",
       "      <th>type</th>\n",
       "      <th>value</th>\n",
       "    </tr>\n",
       "  </thead>\n",
       "  <tbody>\n",
       "    <tr>\n",
       "      <th>0</th>\n",
       "      <td>hgv</td>\n",
       "      <td>tiger</td>\n",
       "      <td>4943701</td>\n",
       "      <td>NA</td>\n",
       "      <td>designated</td>\n",
       "    </tr>\n",
       "    <tr>\n",
       "      <th>1</th>\n",
       "      <td>ref</td>\n",
       "      <td>tiger</td>\n",
       "      <td>4943701</td>\n",
       "      <td>NA</td>\n",
       "      <td>I 79</td>\n",
       "    </tr>\n",
       "    <tr>\n",
       "      <th>2</th>\n",
       "      <td>foot</td>\n",
       "      <td>tiger</td>\n",
       "      <td>4943701</td>\n",
       "      <td>NA</td>\n",
       "      <td>no</td>\n",
       "    </tr>\n",
       "    <tr>\n",
       "      <th>3</th>\n",
       "      <td>horse</td>\n",
       "      <td>tiger</td>\n",
       "      <td>4943701</td>\n",
       "      <td>NA</td>\n",
       "      <td>no</td>\n",
       "    </tr>\n",
       "    <tr>\n",
       "      <th>4</th>\n",
       "      <td>lanes</td>\n",
       "      <td>tiger</td>\n",
       "      <td>4943701</td>\n",
       "      <td>NA</td>\n",
       "      <td>2</td>\n",
       "    </tr>\n",
       "    <tr>\n",
       "      <th>5</th>\n",
       "      <td>oneway</td>\n",
       "      <td>tiger</td>\n",
       "      <td>4943701</td>\n",
       "      <td>NA</td>\n",
       "      <td>yes</td>\n",
       "    </tr>\n",
       "    <tr>\n",
       "      <th>6</th>\n",
       "      <td>bicycle</td>\n",
       "      <td>tiger</td>\n",
       "      <td>4943701</td>\n",
       "      <td>NA</td>\n",
       "      <td>no</td>\n",
       "    </tr>\n",
       "    <tr>\n",
       "      <th>7</th>\n",
       "      <td>highway</td>\n",
       "      <td>tiger</td>\n",
       "      <td>4943701</td>\n",
       "      <td>NA</td>\n",
       "      <td>motorway</td>\n",
       "    </tr>\n",
       "    <tr>\n",
       "      <th>8</th>\n",
       "      <td>maxspeed</td>\n",
       "      <td>tiger</td>\n",
       "      <td>4943701</td>\n",
       "      <td>NA</td>\n",
       "      <td>55 mph</td>\n",
       "    </tr>\n",
       "    <tr>\n",
       "      <th>9</th>\n",
       "      <td>sidewalk</td>\n",
       "      <td>tiger</td>\n",
       "      <td>4943701</td>\n",
       "      <td>NA</td>\n",
       "      <td>none</td>\n",
       "    </tr>\n",
       "  </tbody>\n",
       "</table>\n",
       "</div>"
      ],
      "text/plain": [
       "  attribute attribute_type       id type       value\n",
       "0       hgv          tiger  4943701   NA  designated\n",
       "1       ref          tiger  4943701   NA        I 79\n",
       "2      foot          tiger  4943701   NA          no\n",
       "3     horse          tiger  4943701   NA          no\n",
       "4     lanes          tiger  4943701   NA           2\n",
       "5    oneway          tiger  4943701   NA         yes\n",
       "6   bicycle          tiger  4943701   NA          no\n",
       "7   highway          tiger  4943701   NA    motorway\n",
       "8  maxspeed          tiger  4943701   NA      55 mph\n",
       "9  sidewalk          tiger  4943701   NA        none"
      ]
     },
     "execution_count": 416,
     "metadata": {},
     "output_type": "execute_result"
    }
   ],
   "source": [
    "def ways_tags_table ():\n",
    "    pittsburgh = open(osm_file,\"rb\")\n",
    "    ways_tags = defaultdict(list)\n",
    "    for _,elem in ET.iterparse(pittsburgh, events = (\"start\",)):\n",
    "        if elem.tag == \"way\":\n",
    "            for tag in elem.iter(\"tag\"):\n",
    "                if not problemchars.search(tag.attrib['k']):\n",
    "                    ways_tags['id'].append(elem.attrib['id'])\n",
    "                    cln = lower_colon.search(tag.attrib['k'])\n",
    "                    # if colon exists in the 'k' attribute\n",
    "                    if cln: \n",
    "                        ways_tags['attribute'].append(tag.attrib['k'].split(\":\",1)[1])\n",
    "                        ways_tags['attribute_type'].append(tag.attrib['k'].split(\":\",1)[0])\n",
    "                    # if colon does not exist in 'k' attribute\n",
    "                    else: \n",
    "                        ways_tags['attribute'].append(tag.attrib['k'])\n",
    "                        ways_tags['type'].append('NA')\n",
    "                    if is_zipcode(tag):ways_tags['value'].append(update_zipcode(tag.attrib['v']))\n",
    "                    elif is_street_name(tag):ways_tags['value'].append(update_street_name(tag.attrib['v'], mapping_str))\n",
    "                    elif is_building(tag): ways_tags['value'].append(update_landuse(tag.attrib['v']))\n",
    "                    else: ways_tags['value'].append(tag.attrib['v'].encode('utf-8'))\n",
    "    return pd.DataFrame(dict([(x,pd.Series(y)) for x,y in ways_tags.iteritems()])) \n",
    "ways_tags_table().to_csv('ways_tags.csv', index=True, header=False)\n",
    "ways_tags = ways_tags_table()\n",
    "ways_tags.head(10)"
   ]
  },
  {
   "cell_type": "markdown",
   "metadata": {},
   "source": [
    "# Converting the CSV to DB Using SQL"
   ]
  },
  {
   "cell_type": "markdown",
   "metadata": {},
   "source": [
    "In this section, I will convert the CSV format to SQL database and run a few queries to extract some information and answer some questions that I posed at the beginning. There are multiple ways of doing this, the way that I chose was to first create a table (or schema) with desired data taypes and then loop through every row of the previously saved CSV files, convert the columns data type to the types determined in the schema and insert them into the database. I chose to re-open the CSV file again for instructional purposes as loading a CSV file into a database is a quite common practice. "
   ]
  },
  {
   "cell_type": "code",
   "execution_count": 582,
   "metadata": {
    "collapsed": false
   },
   "outputs": [],
   "source": [
    "#create sql table for nodes\n",
    "con = sqlite3.connect('osm.db')\n",
    "con.text_factory = str\n",
    "cur = con.cursor()\n",
    "cur.execute('''CREATE TABLE nodes (\n",
    "    id  INTEGER PRIMARY KEY NOT NULL,\n",
    "    changeset INTEGER,\n",
    "    node_id INTEGER,\n",
    "    lat FLOAT,\n",
    "    lon FLOAT,\n",
    "    timestamp TIMESTAMP,\n",
    "    user_id INTEGER,\n",
    "    user TEXT,\n",
    "    version INTEGER);''') \n",
    "\n",
    "with open ('nodes.csv', 'rb') as table:\n",
    "    reader = csv.reader(table)\n",
    "    dicts =({'id': int(line[0]), 'changeset': int(line[1]), 'node_id':int(line[2]), 'lat':float(line[3]),'lon':float(line[4]),\n",
    "             'timestamp':line[5], 'user_id':int(line[6]),'user':line[7],'version':int(line[8])} for line in reader) \n",
    "    to_db = ((i['id'], i['changeset'],i['node_id'],i['lat'],i['lon'],i['timestamp'],i['user_id'],i['user'],i['version']) for i in dicts)  \n",
    "    cur.executemany(\"INSERT INTO nodes (id, changeset,node_id,lat,lon,timestamp,user_id,user,version) VALUES (?,?,?,?,?,?,?,?,?);\", to_db)\n",
    "con.commit()"
   ]
  },
  {
   "cell_type": "code",
   "execution_count": 583,
   "metadata": {
    "collapsed": false
   },
   "outputs": [
    {
     "data": {
      "text/plain": [
       "[(0, 'id', 'INTEGER', 1, None, 1),\n",
       " (1, 'changeset', 'INTEGER', 0, None, 0),\n",
       " (2, 'node_id', 'INTEGER', 0, None, 0),\n",
       " (3, 'lat', 'FLOAT', 0, None, 0),\n",
       " (4, 'lon', 'FLOAT', 0, None, 0),\n",
       " (5, 'timestamp', 'TIMESTAMP', 0, None, 0),\n",
       " (6, 'user_id', 'INTEGER', 0, None, 0),\n",
       " (7, 'user', 'TEXT', 0, None, 0),\n",
       " (8, 'version', 'INTEGER', 0, None, 0)]"
      ]
     },
     "execution_count": 583,
     "metadata": {},
     "output_type": "execute_result"
    }
   ],
   "source": [
    "# column names and data types in nodes table\n",
    "quer(\"PRAGMA table_info(nodes)\")"
   ]
  },
  {
   "cell_type": "code",
   "execution_count": 576,
   "metadata": {
    "collapsed": false
   },
   "outputs": [],
   "source": [
    "#create sql table for ways\n",
    "cur.execute('''CREATE TABLE ways (\n",
    "    id  INTEGER PRIMARY KEY NOT NULL,\n",
    "    changeset INTEGER,\n",
    "    way_id INTEGER,\n",
    "    timestamp TIMESTAMP,\n",
    "    user_id INTEGER,\n",
    "    user TEXT,\n",
    "    version INTEGER);''') \n",
    "\n",
    "with open ('ways.csv', 'rb') as table:\n",
    "    reader = csv.reader(table)\n",
    "    dicts =({'id': int(line[0]), 'changeset': int(line[1]), 'way_id':int(line[2]),\n",
    "             'timestamp':line[3], 'user_id':int(line[4]),'user':line[5],'version':int(line[6])} for line in reader) \n",
    "    to_db = ((i['id'], i['changeset'],i['way_id'],i['timestamp'],i['user_id'],i['user'],i['version']) for i in dicts)  \n",
    "    cur.executemany(\"INSERT INTO ways (id, changeset,way_id,timestamp,user_id,user,version) VALUES (?,?,?,?,?,?,?);\", to_db)\n",
    "con.commit()"
   ]
  },
  {
   "cell_type": "code",
   "execution_count": 577,
   "metadata": {
    "collapsed": false
   },
   "outputs": [
    {
     "data": {
      "text/plain": [
       "[(0, 'id', 'INTEGER', 1, None, 1),\n",
       " (1, 'changeset', 'INTEGER', 0, None, 0),\n",
       " (2, 'way_id', 'INTEGER', 0, None, 0),\n",
       " (3, 'timestamp', 'TIMESTAMP', 0, None, 0),\n",
       " (4, 'user_id', 'INTEGER', 0, None, 0),\n",
       " (5, 'user', 'TEXT', 0, None, 0),\n",
       " (6, 'version', 'INTEGER', 0, None, 0)]"
      ]
     },
     "execution_count": 577,
     "metadata": {},
     "output_type": "execute_result"
    }
   ],
   "source": [
    "# column names and data types in ways table\n",
    "quer(\"PRAGMA table_info(ways)\")"
   ]
  },
  {
   "cell_type": "code",
   "execution_count": 578,
   "metadata": {
    "collapsed": false
   },
   "outputs": [
    {
     "data": {
      "text/plain": [
       "[(0, 'id', 'INTEGER', 1, None, 1),\n",
       " (1, 'attribute', 'TEXT', 0, None, 0),\n",
       " (2, 'attribute_type', 'TEXT', 0, None, 0),\n",
       " (3, 'node_id', 'INTEGER', 0, None, 0),\n",
       " (4, 'data_type', 'TEXT', 0, None, 0),\n",
       " (5, 'value', 'TEXT', 0, None, 0)]"
      ]
     },
     "execution_count": 578,
     "metadata": {},
     "output_type": "execute_result"
    }
   ],
   "source": [
    "#create sql table for nodes_tags\n",
    "cur.execute('''CREATE TABLE nodes_tags (\n",
    "    id  INTEGER PRIMARY KEY NOT NULL,\n",
    "    attribute TEXT,\n",
    "    attribute_type TEXT,\n",
    "    node_id INTEGER,\n",
    "    data_type TEXT,\n",
    "    value TEXT);''') \n",
    "\n",
    "with open ('nodes_tags.csv', 'rb') as table:\n",
    "    reader = csv.reader(table)\n",
    "    dicts =({'id': int(line[0]), 'attribute': line[1],'attribute_type': line[2], 'node_id':int(line[3]), 'data_type':line[4],\n",
    "             'value':line[5]} for line in reader) \n",
    "    to_db = ((i['id'], i['attribute'],i['attribute_type'],i['node_id'],i['data_type'],i['value']) for i in dicts)  \n",
    "    cur.executemany(\"INSERT INTO nodes_tags(id, attribute,attribute_type,node_id,data_type,value) VALUES (?,?,?,?,?,?);\", to_db)\n",
    "con.commit()\n",
    "# column names and data types in nodes_tags table\n",
    "quer(\"PRAGMA table_info(nodes_tags)\")"
   ]
  },
  {
   "cell_type": "code",
   "execution_count": 579,
   "metadata": {
    "collapsed": false
   },
   "outputs": [
    {
     "data": {
      "text/plain": [
       "[(0, 'id', 'INTEGER', 1, None, 1),\n",
       " (1, 'attribute', 'TEXT', 0, None, 0),\n",
       " (2, 'attribute_type', 'TEXT', 0, None, 0),\n",
       " (3, 'way_id', 'INTEGER', 0, None, 0),\n",
       " (4, 'data_type', 'TEXT', 0, None, 0),\n",
       " (5, 'value', 'TEXT', 0, None, 0)]"
      ]
     },
     "execution_count": 579,
     "metadata": {},
     "output_type": "execute_result"
    }
   ],
   "source": [
    "#create sql table for ways_tags\n",
    "cur.execute('''CREATE TABLE ways_tags (\n",
    "    id  INTEGER PRIMARY KEY NOT NULL,\n",
    "    attribute TEXT,\n",
    "    attribute_type TEXT,\n",
    "    way_id INTEGER,\n",
    "    data_type TEXT,\n",
    "    value TEXT);''') \n",
    "\n",
    "with open ('ways_tags.csv', 'rb') as table:\n",
    "    reader = csv.reader(table)\n",
    "    dicts =({'id': int(line[0]), 'attribute': line[1],'attribute_type': line[2], 'way_id':int(line[3]), 'data_type':line[4],\n",
    "             'value':line[5]} for line in reader) \n",
    "    to_db = ((i['id'], i['attribute'],i['attribute_type'],i['way_id'],i['data_type'],i['value']) for i in dicts)  \n",
    "    cur.executemany(\"INSERT INTO ways_tags(id, attribute,attribute_type,way_id,data_type,value) VALUES (?,?,?,?,?,?);\", to_db)\n",
    "con.commit()\n",
    "# column names and data types in ways_tags table\n",
    "quer(\"PRAGMA table_info(ways_tags)\")"
   ]
  },
  {
   "cell_type": "markdown",
   "metadata": {},
   "source": [
    "**FILE SIZES**: we now define a function to loop through all our files that we have created so far and report their sizes. The original OSM file is the largest and the size has shrinked after making our databases. Mostly because we didn't include all the tags. The largest CSV file is the \"nodes.csv\". \n",
    "\n",
    "* file 'nodes.csv' is 172.6 MB\n",
    "* file 'ways.csv' is 13.0 MB\n",
    "* file 'nodes_tags.csv' is 11.0 MB\n",
    "* file 'ways_tags.csv' is 37.7 MB\n",
    "* file 'osm.db' is 365.5 MB\n",
    "* file 'pittsburgh_pennsylvania.osm' is 422.6 MB"
   ]
  },
  {
   "cell_type": "code",
   "execution_count": 604,
   "metadata": {
    "collapsed": false
   },
   "outputs": [],
   "source": [
    "files_lst = ['nodes.csv','ways.csv','nodes_tags.csv','ways_tags.csv','osm.db', 'pittsburgh_pennsylvania.osm']\n",
    "for i in files_lst: \n",
    "    print (\"file {!r} is {!s} MB\".format(i,round(os.path.getsize(i)/(1024*1024.0),1)))"
   ]
  },
  {
   "cell_type": "markdown",
   "metadata": {},
   "source": [
    "# Analyzing the Data Using SQL"
   ]
  },
  {
   "cell_type": "markdown",
   "metadata": {},
   "source": [
    "In this section I will try to answer some questions via SQL queries. First we define a couple functions to simplify the querying and plotting process:"
   ]
  },
  {
   "cell_type": "code",
   "execution_count": 559,
   "metadata": {
    "collapsed": false
   },
   "outputs": [],
   "source": [
    "# we generated the following tables: ways,ways_tags,nodes,nodes_tags\n",
    "con = sqlite3.connect('osm.db')\n",
    "con.text_factory = str\n",
    "cur = con.cursor()\n",
    "def quer(a):\n",
    "    return cur.execute(a).fetchall()\n",
    "\n",
    "def barplot_quer (m,a,b):\n",
    "    %matplotlib inline\n",
    "    y = [int(i[a]) for i in m]\n",
    "    labels = [i[b] for i in m]\n",
    "    x = range(1,len(y)+1)\n",
    "    plt.bar(x, y, align = \"center\")\n",
    "    plt.xticks(x, labels, rotation='vertical')\n",
    "    \n",
    "    "
   ]
  },
  {
   "cell_type": "markdown",
   "metadata": {},
   "source": [
    "# which users have contributed most to OSM in Pittsburgh? "
   ]
  },
  {
   "cell_type": "code",
   "execution_count": 560,
   "metadata": {
    "collapsed": false
   },
   "outputs": [
    {
     "data": {
      "text/plain": [
       "<matplotlib.text.Text at 0x2e3e81198>"
      ]
     },
     "execution_count": 560,
     "metadata": {},
     "output_type": "execute_result"
    },
    {
     "data": {
      "image/png": "[encoded data removed]",
      "text/plain": [
       "<matplotlib.figure.Figure at 0x3901240f0>"
      ]
     },
     "metadata": {},
     "output_type": "display_data"
    }
   ],
   "source": [
    "# top 30 contributing users\n",
    "m = quer('''SELECT user,user_id,count(*) FROM   \n",
    "     (SELECT user_id,user FROM nodes\n",
    "      UNION ALL\n",
    "      SELECT user_id,user FROM ways)    \n",
    "     nodes group by user_id order by count(*) Desc limit 30;''')\n",
    "barplot_quer (m,2,0)\n",
    "plt.xlabel('users', fontsize=14)\n",
    "plt.ylabel('number of contributions', fontsize=14)\n",
    "plt.title('Top contributing users in Pittsburgh', fontsize=17)"
   ]
  },
  {
   "cell_type": "markdown",
   "metadata": {},
   "source": [
    "# Which zipcodes have the highest number of data entery by users? "
   ]
  },
  {
   "cell_type": "code",
   "execution_count": 561,
   "metadata": {
    "collapsed": false
   },
   "outputs": [
    {
     "data": {
      "text/plain": [
       "<matplotlib.text.Text at 0x432e90668>"
      ]
     },
     "execution_count": 561,
     "metadata": {},
     "output_type": "execute_result"
    },
    {
     "data": {
      "image/png": "[encoded data removed]",
      "text/plain": [
       "<matplotlib.figure.Figure at 0x3b1ee3c88>"
      ]
     },
     "metadata": {},
     "output_type": "display_data"
    }
   ],
   "source": [
    "m = quer('''SELECT value,count(*) FROM \n",
    "         (SELECT * FROM ways_tags\n",
    "         UNION ALL\n",
    "         SELECT * FROM nodes_tags)\n",
    "         where attribute ='postcode' group by value order by count(*) Desc limit 30;''')\n",
    "barplot_quer (m,1,0)\n",
    "plt.xlabel('zip code', fontsize=14)\n",
    "plt.ylabel('count', fontsize=14)\n",
    "plt.title('Number of contributions per zip code', fontsize=17)"
   ]
  },
  {
   "cell_type": "markdown",
   "metadata": {},
   "source": [
    "# what types of attrbutes can be found in the Pittsburgh OSM file (e.e. address, tiger data etc.)"
   ]
  },
  {
   "cell_type": "code",
   "execution_count": 562,
   "metadata": {
    "collapsed": false
   },
   "outputs": [
    {
     "data": {
      "text/plain": [
       "<matplotlib.text.Text at 0x10e94b358>"
      ]
     },
     "execution_count": 562,
     "metadata": {},
     "output_type": "execute_result"
    },
    {
     "data": {
      "image/png": "[encoded data removed]",
      "text/plain": [
       "<matplotlib.figure.Figure at 0x3b1ee3860>"
      ]
     },
     "metadata": {},
     "output_type": "display_data"
    }
   ],
   "source": [
    "m = quer('''SELECT attribute_type,count(*) FROM \n",
    "         (SELECT attribute_type FROM ways_tags\n",
    "         UNION ALL\n",
    "         SELECT attribute_type FROM nodes_tags)\n",
    "         group by attribute_type order by count(*) Desc limit 30;''')\n",
    "barplot_quer (m,1,0)\n",
    "plt.xlabel('attribute type', fontsize=14)\n",
    "plt.ylabel('count', fontsize=14)\n",
    "plt.title('Types of attributes found in Pittsburgh OSM', fontsize=17)\n",
    "# the first column is for the NA values, that is no colon were found in these attrbutes"
   ]
  },
  {
   "cell_type": "code",
   "execution_count": 563,
   "metadata": {
    "collapsed": false
   },
   "outputs": [
    {
     "data": {
      "text/plain": [
       "<matplotlib.text.Text at 0x40d08f748>"
      ]
     },
     "execution_count": 563,
     "metadata": {},
     "output_type": "execute_result"
    },
    {
     "data": {
      "image/png": "[encoded data removed]",
      "text/plain": [
       "<matplotlib.figure.Figure at 0x390124c18>"
      ]
     },
     "metadata": {},
     "output_type": "display_data"
    }
   ],
   "source": [
    "m = quer(\"SELECT value,count(*) FROM ways_tags where attribute ='building' group by value order by count(*) Desc limit 8;\")\n",
    "barplot_quer (m,1,0)\n",
    "plt.xlabel('land use type', fontsize=14)\n",
    "plt.ylabel('count', fontsize=14)\n",
    "plt.title('Land use count in Pittsburgh', fontsize=17)"
   ]
  },
  {
   "cell_type": "code",
   "execution_count": 567,
   "metadata": {
    "collapsed": false,
    "scrolled": true
   },
   "outputs": [
    {
     "data": {
      "text/plain": [
       "<matplotlib.text.Text at 0x3824f26a0>"
      ]
     },
     "execution_count": 567,
     "metadata": {},
     "output_type": "execute_result"
    },
    {
     "data": {
      "image/png": "[encoded data removed]",
      "text/plain": [
       "<matplotlib.figure.Figure at 0x3f9f82f98>"
      ]
     },
     "metadata": {},
     "output_type": "display_data"
    }
   ],
   "source": [
    "quer(\"CREATE TABLE zipcodes AS SELECT * FROM ways_tags WHERE attribute ='postcode';\")\n",
    "quer(\"CREATE TABLE buildings AS SELECT * FROM ways_tags WHERE attribute ='building';\")\n",
    "\n",
    "m = quer('''SELECT zipcodes.value,buildings.value, count(buildings.value) \n",
    "            as count FROM buildings join zipcodes on buildings.way_id = zipcodes.way_id \n",
    "            WHERE buildings.value == 'residential' group by zipcodes.value order by count(buildings.value) Desc limit 10;''')\n",
    "barplot_quer (m,2,0)\n",
    "plt.xlabel('zip code', fontsize=14)\n",
    "plt.ylabel('count', fontsize=14)\n",
    "plt.title('Number of residential buildings per zip code', fontsize=17)"
   ]
  },
  {
   "cell_type": "code",
   "execution_count": 568,
   "metadata": {
    "collapsed": false
   },
   "outputs": [
    {
     "data": {
      "text/plain": [
       "<matplotlib.text.Text at 0x4163aa7b8>"
      ]
     },
     "execution_count": 568,
     "metadata": {},
     "output_type": "execute_result"
    },
    {
     "data": {
      "image/png": "[encoded data removed]",
      "text/plain": [
       "<matplotlib.figure.Figure at 0x3f9f828d0>"
      ]
     },
     "metadata": {},
     "output_type": "display_data"
    }
   ],
   "source": [
    "m = quer('''SELECT zipcodes.value,buildings.value, count(buildings.value) \n",
    "            as count FROM buildings join zipcodes on buildings.way_id = zipcodes.way_id \n",
    "            WHERE buildings.value == 'commercial' group by zipcodes.value order by count(buildings.value) Desc limit 10;''')\n",
    "barplot_quer (m,2,0)\n",
    "plt.xlabel('zip code', fontsize=14)\n",
    "plt.ylabel('count', fontsize=14)\n",
    "plt.title('Number of commercial buildings per zip code', fontsize=17)"
   ]
  },
  {
   "cell_type": "markdown",
   "metadata": {},
   "source": [
    "# Conclusion and Other Ideas\n",
    "\n",
    "\n",
    "My analysis indicated that the distribution of OSM contributions are not consistent accross different zipcodes. This could be due to the low number of contributers (u.e. 1313) in Pittsburgh. Another limitation was lack of appropriate standard format for different types of data. As we saw in building types attributes, there were a lot of confusion as what OSM wants from the user to enter. \n",
    "\n",
    "My methodology can be applied to any other city and the process would be more or less the same. The only part that might require some changes would be the mapping dictionaries for altering the formattings. This issue is context sensitive and is rather arbitrary. =The major advantage of OSM in my opinion is that the software automatically enters some data that are not exposed to human errors. User_id, and latitude and longitude are some of these useful informattion. One can use these data to see which areas of the city are most discovered, where people go and how integrated are different neighborhoods in the city."
   ]
  }
 ],
 "metadata": {
  "anaconda-cloud": {},
  "kernelspec": {
   "display_name": "Python [default]",
   "language": "python",
   "name": "python2"
  },
  "language_info": {
   "codemirror_mode": {
    "name": "ipython",
    "version": 2
   },
   "file_extension": ".py",
   "mimetype": "text/x-python",
   "name": "python",
   "nbconvert_exporter": "python",
   "pygments_lexer": "ipython2",
   "version": "2.7.12"
  }
 },
 "nbformat": 4,
 "nbformat_minor": 1
}
